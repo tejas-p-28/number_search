{
 "cells": [
  {
   "cell_type": "code",
   "execution_count": 4,
   "id": "9e84bd70-5110-4b8a-87a6-6ae47ec42b67",
   "metadata": {},
   "outputs": [
    {
     "name": "stdin",
     "output_type": "stream",
     "text": [
      "Enter a list of numbers separated by commas:  5,7,3,6,9\n"
     ]
    },
    {
     "name": "stdout",
     "output_type": "stream",
     "text": [
      "Sorted list: [3, 5, 6, 7, 9]\n"
     ]
    },
    {
     "name": "stdin",
     "output_type": "stream",
     "text": [
      "Enter the number to find in the list:  6\n"
     ]
    },
    {
     "name": "stdout",
     "output_type": "stream",
     "text": [
      "Element 6 found at indices: [2]\n"
     ]
    }
   ],
   "source": [
    "import sqlite3\n",
    "# Connect to the SQLite database (or create a new one if it doesn't exist)\n",
    "conn = sqlite3.connect('numbers.db')\n",
    "cursor = conn.cursor()\n",
    "# Create the numbers table if it doesn't exist\n",
    "cursor.execute('''\n",
    "     CREATE TABLE IF NOT EXISTS numbers (\n",
    "     id INTEGER PRIMARY KEY AUTOINCREMENT,\n",
    "     value INTEGER NOT NULL\n",
    "     )\n",
    "    ''')\n",
    "def insert_numbers(numbers):\n",
    " # Clear existing data and insert sorted numbers into the database\n",
    "     cursor.execute('DELETE FROM numbers')\n",
    "     cursor.executemany('INSERT INTO numbers (value) VALUES (?)',\n",
    "    [(num,) for num in numbers])\n",
    "     conn.commit()\n",
    "def binary_search_all_indices(arr, target):\n",
    "    indices = []\n",
    "    left, right = 0, len(arr) - 1\n",
    "    while left <= right:\n",
    "        mid = (left + right) // 2\n",
    "        if arr[mid] == target:\n",
    "            # Add the index to the list of indices\n",
    "            indices.append(mid)\n",
    "            # Update left and right pointers to find other occurrences\n",
    "            left = mid + 1\n",
    "            right = mid - 1\n",
    "        elif arr[mid] < target:\n",
    "         left = mid + 1\n",
    "        else:\n",
    "         right = mid - 1\n",
    "    return indices\n",
    "try:\n",
    "     # Interactive input of list elements\n",
    "    input_str = input(\"Enter a list of numbers separated by commas: \")\n",
    "    input_list = input_str.split(\",\")\n",
    "    numbers = list(set(int(num.strip()) for num in input_list)) #Remove duplicates using set\n",
    "    # Sort and print the sorted list\n",
    "    numbers.sort()\n",
    "    print(\"Sorted list:\", numbers)\n",
    "    # Store sorted numbers in the database\n",
    "    insert_numbers(numbers)\n",
    "    target_value = int(input(\"Enter the number to find in the list: \"))\n",
    "    # Perform binary search on stored data and get all indices of thetarget value\n",
    "    cursor.execute('SELECT value FROM numbers')\n",
    "    stored_numbers = [row[0] for row in cursor.fetchall()]\n",
    "    \n",
    "    indices = binary_search_all_indices(stored_numbers, target_value)\n",
    "    if indices:\n",
    "        print(f\"Element {target_value} found at indices: {indices}\")\n",
    "    else:\n",
    "        print(f\"Element {target_value} not found in the list.\")\n",
    "except ValueError:\n",
    "    print(\"Invalid input. Please enter unique integers separated bycommas.\")\n",
    "finally:\n",
    "    conn.close()"
   ]
  },
  {
   "cell_type": "code",
   "execution_count": null,
   "id": "3f819597-349c-4dab-bf52-bf6d7d56b8e3",
   "metadata": {},
   "outputs": [],
   "source": []
  }
 ],
 "metadata": {
  "kernelspec": {
   "display_name": "Python 3 (ipykernel)",
   "language": "python",
   "name": "python3"
  },
  "language_info": {
   "codemirror_mode": {
    "name": "ipython",
    "version": 3
   },
   "file_extension": ".py",
   "mimetype": "text/x-python",
   "name": "python",
   "nbconvert_exporter": "python",
   "pygments_lexer": "ipython3",
   "version": "3.12.2"
  }
 },
 "nbformat": 4,
 "nbformat_minor": 5
}
